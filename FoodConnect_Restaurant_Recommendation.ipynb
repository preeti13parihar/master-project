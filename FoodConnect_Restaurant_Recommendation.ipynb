{
  "nbformat": 4,
  "nbformat_minor": 0,
  "metadata": {
    "kernelspec": {
      "display_name": "Python 3",
      "language": "python",
      "name": "python3"
    },
    "language_info": {
      "codemirror_mode": {
        "name": "ipython",
        "version": 3
      },
      "file_extension": ".py",
      "mimetype": "text/x-python",
      "name": "python",
      "nbconvert_exporter": "python",
      "pygments_lexer": "ipython3",
      "version": "3.8.3"
    },
    "colab": {
      "name": "FoodConnect Restaurant Recommendation.ipynb",
      "provenance": []
    }
  },
  "cells": [
    {
      "cell_type": "markdown",
      "metadata": {
        "id": "TrK2Vj3bHGsr"
      },
      "source": [
        "# **Food Connect**"
      ]
    },
    {
      "cell_type": "markdown",
      "metadata": {
        "id": "y2xmADIoHK-S"
      },
      "source": [
        "Food Connect is the platform where food lovers collectively share food experiences and can find new and exciting tastes. For users to get personalized restaurant recommendations we have tried to build a recommendation engine for the restaurants. Using this Machine Learning Model, we will be recommending restaurants based on the restaurants that the user has previously visited. We tried to provide a recommendation based on collaborative filtering. We experimented User-Item based collaborative filtering and Item-Item Based collaborative filtering Methods. "
      ]
    },
    {
      "cell_type": "markdown",
      "metadata": {
        "id": "jWXeq4P7Hgaw"
      },
      "source": [
        "## **Data Collection**:\n",
        "\n",
        "**Data Narrative:** \n",
        "\n",
        "The Data that we used was an open-source version of Yelp_Review_Dataset provided by yelp.com. This dataset comprises reviews posted by all users for restaurants\n",
        "We used yelp reviews dataset to recommend restaurants. This dataset contains full review text data including the user_id that wrote the review and the business_id the review is written for.\n",
        "\n",
        "\n",
        "\n",
        "```\n",
        "{\n",
        "    // string, 22 character unique review id\n",
        "    \"review_id\": \"zdSx_SD6obEhz9VrW9uAWA\",\n",
        "\n",
        "    // string, 22 character unique user id, maps to the user in user.json\n",
        "    \"user_id\": \"Ha3iJu77CxlrFm-vQRs_8g\",\n",
        "\n",
        "    // string, 22 character business id, maps to business in business.json\n",
        "    \"business_id\": \"tnhfDv5Il8EaGSXZGiuQGg\",\n",
        "\n",
        "    // integer, star rating\n",
        "    \"stars\": 4,\n",
        "\n",
        "    // string, date formatted YYYY-MM-DD\n",
        "    \"date\": \"2016-03-09\",\n",
        "\n",
        "    // string, the review itself\n",
        "    \"text\": \"Great place to hang out after work: the prices are decent, and the ambience is fun. It's a bit loud, but very lively. The staff is friendly, and the food is good. They have a good selection of drinks.\",\n",
        "\n",
        "    // integer, number of useful votes received\n",
        "    \"useful\": 0,\n",
        "\n",
        "    // integer, number of funny votes received\n",
        "    \"funny\": 0,\n",
        "\n",
        "    // integer, number of cool votes received\n",
        "    \"cool\": 0\n",
        "}\n",
        "```"
      ]
    },
    {
      "cell_type": "markdown",
      "metadata": {
        "id": "nXOoP-pEKV6L"
      },
      "source": [
        "# Installing Modules"
      ]
    },
    {
      "cell_type": "code",
      "metadata": {
        "colab": {
          "base_uri": "https://localhost:8080/"
        },
        "id": "jd5-73lCKA5h",
        "outputId": "1e9dfbc3-24c4-4f45-e761-3078d341a212"
      },
      "source": [
        "!pip install surprise \n",
        "!pip install pandas\n",
        "!pip install scipy\n",
        "!pip install matplotlib"
      ],
      "execution_count": 1,
      "outputs": [
        {
          "output_type": "stream",
          "name": "stdout",
          "text": [
            "Requirement already satisfied: surprise in /usr/local/lib/python3.7/dist-packages (0.1)\n",
            "Requirement already satisfied: scikit-surprise in /usr/local/lib/python3.7/dist-packages (from surprise) (1.1.1)\n",
            "Requirement already satisfied: joblib>=0.11 in /usr/local/lib/python3.7/dist-packages (from scikit-surprise->surprise) (1.1.0)\n",
            "Requirement already satisfied: numpy>=1.11.2 in /usr/local/lib/python3.7/dist-packages (from scikit-surprise->surprise) (1.19.5)\n",
            "Requirement already satisfied: six>=1.10.0 in /usr/local/lib/python3.7/dist-packages (from scikit-surprise->surprise) (1.15.0)\n",
            "Requirement already satisfied: scipy>=1.0.0 in /usr/local/lib/python3.7/dist-packages (from scikit-surprise->surprise) (1.4.1)\n",
            "Requirement already satisfied: pandas in /usr/local/lib/python3.7/dist-packages (1.1.5)\n",
            "Requirement already satisfied: pytz>=2017.2 in /usr/local/lib/python3.7/dist-packages (from pandas) (2018.9)\n",
            "Requirement already satisfied: python-dateutil>=2.7.3 in /usr/local/lib/python3.7/dist-packages (from pandas) (2.8.2)\n",
            "Requirement already satisfied: numpy>=1.15.4 in /usr/local/lib/python3.7/dist-packages (from pandas) (1.19.5)\n",
            "Requirement already satisfied: six>=1.5 in /usr/local/lib/python3.7/dist-packages (from python-dateutil>=2.7.3->pandas) (1.15.0)\n",
            "Requirement already satisfied: scipy in /usr/local/lib/python3.7/dist-packages (1.4.1)\n",
            "Requirement already satisfied: numpy>=1.13.3 in /usr/local/lib/python3.7/dist-packages (from scipy) (1.19.5)\n",
            "Requirement already satisfied: matplotlib in /usr/local/lib/python3.7/dist-packages (3.2.2)\n",
            "Requirement already satisfied: kiwisolver>=1.0.1 in /usr/local/lib/python3.7/dist-packages (from matplotlib) (1.3.2)\n",
            "Requirement already satisfied: cycler>=0.10 in /usr/local/lib/python3.7/dist-packages (from matplotlib) (0.11.0)\n",
            "Requirement already satisfied: numpy>=1.11 in /usr/local/lib/python3.7/dist-packages (from matplotlib) (1.19.5)\n",
            "Requirement already satisfied: python-dateutil>=2.1 in /usr/local/lib/python3.7/dist-packages (from matplotlib) (2.8.2)\n",
            "Requirement already satisfied: pyparsing!=2.0.4,!=2.1.2,!=2.1.6,>=2.0.1 in /usr/local/lib/python3.7/dist-packages (from matplotlib) (3.0.6)\n",
            "Requirement already satisfied: six>=1.5 in /usr/local/lib/python3.7/dist-packages (from python-dateutil>=2.1->matplotlib) (1.15.0)\n"
          ]
        }
      ]
    },
    {
      "cell_type": "markdown",
      "metadata": {
        "id": "8PrWvze2KghO"
      },
      "source": [
        "# Importing required Modules"
      ]
    },
    {
      "cell_type": "code",
      "metadata": {
        "id": "8B8SnCrZpL_G"
      },
      "source": [
        "import pandas as pd\n",
        "import numpy as np\n",
        "from scipy.sparse import csr_matrix\n",
        "from sklearn.neighbors import NearestNeighbors\n",
        "import matplotlib.pyplot as plt\n",
        "import seaborn as sns\n",
        "from sklearn import preprocessing\n",
        "import scipy\n",
        "\n",
        "\n",
        "from surprise import *\n",
        "from surprise import Dataset\n",
        "from surprise import accuracy\n",
        "from surprise import Reader\n",
        "import os\n",
        "from surprise.model_selection import train_test_split\n",
        "import pickle"
      ],
      "execution_count": 2,
      "outputs": []
    },
    {
      "cell_type": "markdown",
      "metadata": {
        "id": "vERW7c3MKlcP"
      },
      "source": [
        "# Downloading the dataset\n"
      ]
    },
    {
      "cell_type": "code",
      "metadata": {
        "colab": {
          "base_uri": "https://localhost:8080/"
        },
        "id": "C7WuX3VA-dYR",
        "outputId": "07ab2bae-f608-4350-8f4a-fdb49b0af3e3"
      },
      "source": [
        "!gdown --id 1VWnsm7M4YR1soOdEylHtI5nX2gDXBCIf"
      ],
      "execution_count": null,
      "outputs": [
        {
          "output_type": "stream",
          "name": "stdout",
          "text": [
            "Downloading...\n",
            "From: https://drive.google.com/uc?id=1VWnsm7M4YR1soOdEylHtI5nX2gDXBCIf\n",
            "To: /content/yelp_academic_dataset_review.json\n",
            "100% 6.94G/6.94G [02:17<00:00, 50.6MB/s]\n"
          ]
        }
      ]
    },
    {
      "cell_type": "markdown",
      "metadata": {
        "id": "8E4LKx-VLB4i"
      },
      "source": [
        "# Data Preprocessing\n",
        "The Yelp_Review_Dataset was a very huge dataset of  6 GB and it was very difficult to process it on our computer or even Google Collab Pro. For JSON to be used by the application the JSON data is supposed to be loaded onto memory. As we have 6GB of data to load, we were running out of memory.\n",
        "\n",
        "To access this dataset and make it consumable we had to perform multiple pre-processing so that we don’t load the entire dataset into the memory.\n"
      ]
    },
    {
      "cell_type": "markdown",
      "metadata": {
        "id": "PO-H3eKnLVe6"
      },
      "source": [
        "## Reading dataset into chunks\n",
        "\n",
        "Chunks of data using Pandas Library. Using this we extracted user information only. We extracted User_ID,  Restaurant_Id, and review stars from the dataset."
      ]
    },
    {
      "cell_type": "code",
      "metadata": {
        "id": "Ot26V1fS-rBQ"
      },
      "source": [
        "filepath='/content/yelp_academic_dataset_review.json'\n",
        "size = 100000\n",
        "review = pd.read_json(filepath, lines=True,\n",
        "                      dtype={'review_id':str,'user_id':str,\n",
        "                             'business_id':str,'stars':int,\n",
        "                             'date':str,'text':str,'useful':int,\n",
        "                             'funny':int,'cool':int},\n",
        "                      chunksize=size)"
      ],
      "execution_count": null,
      "outputs": []
    },
    {
      "cell_type": "markdown",
      "metadata": {
        "id": "D_dE0mJ8Lga3"
      },
      "source": [
        "We removed missing values and to make the data consumable by machine learning models we converted user_ids into numbers using LabelEncoding from the SKlearn Library."
      ]
    },
    {
      "cell_type": "code",
      "metadata": {
        "id": "XnoAZH7y-s_j"
      },
      "source": [
        "chunk_list = []\n",
        "x=True\n",
        "count=0\n",
        "df=pd.DataFrame(columns=['user_id','business_id','review_stars'])\n",
        "try:\n",
        "    for chunk_review in review:\n",
        "        if True:\n",
        "          df2=chunk_review\n",
        "        chunk_review = chunk_review.drop(['review_id','useful','funny','cool','text','date'], axis=1)\n",
        "        # Renaming column name to avoid conflict with business overall star rating\n",
        "        chunk_review = chunk_review.rename(columns={'stars': 'review_stars'})\n",
        "        \n",
        "\n",
        "\n",
        "        df2=pd.DataFrame(chunk_review)\n",
        "        df=df.append(df2)\n",
        "except:\n",
        "    pass"
      ],
      "execution_count": null,
      "outputs": []
    },
    {
      "cell_type": "markdown",
      "metadata": {
        "id": "KMcf2kl7LrZy"
      },
      "source": [
        "***The Above file that is generated consits of only required columns reducing the size significantly***"
      ]
    },
    {
      "cell_type": "code",
      "metadata": {
        "id": "zlOeNGAl-n6U"
      },
      "source": [
        "# df.to_csv('my_file.csv')"
      ],
      "execution_count": null,
      "outputs": []
    },
    {
      "cell_type": "markdown",
      "metadata": {
        "id": "z-S-LjBZL3C0"
      },
      "source": [
        "## Downloading preprocessed data"
      ]
    },
    {
      "cell_type": "code",
      "metadata": {
        "colab": {
          "base_uri": "https://localhost:8080/"
        },
        "id": "MBvddp5aiyRB",
        "outputId": "045acce1-11bc-4ae4-b6ca-4a4a81075d7b"
      },
      "source": [
        "!gdown --id 1YDwM6lNsILUlUv5QOHRNeMRtiU6S6sPK"
      ],
      "execution_count": null,
      "outputs": [
        {
          "output_type": "stream",
          "name": "stdout",
          "text": [
            "Downloading...\n",
            "From: https://drive.google.com/uc?id=1YDwM6lNsILUlUv5QOHRNeMRtiU6S6sPK\n",
            "To: /content/restaurants_dataset.csv\n",
            "100% 94.1M/94.1M [00:01<00:00, 84.2MB/s]\n"
          ]
        }
      ]
    },
    {
      "cell_type": "markdown",
      "metadata": {
        "id": "gUzeGk7CL8KY"
      },
      "source": [
        "## Reading Preprocessed Data"
      ]
    },
    {
      "cell_type": "code",
      "metadata": {
        "id": "usrDDvEOpL_G"
      },
      "source": [
        "dataset=pd.read_csv('/content/restaurants_dataset.csv')"
      ],
      "execution_count": null,
      "outputs": []
    },
    {
      "cell_type": "code",
      "metadata": {
        "id": "NvbLscLjuQTp"
      },
      "source": [
        "dataset=dataset.groupby('business_id').mean().reset_index()[['business_id','review_stars']]"
      ],
      "execution_count": null,
      "outputs": []
    },
    {
      "cell_type": "code",
      "metadata": {
        "colab": {
          "base_uri": "https://localhost:8080/",
          "height": 424
        },
        "id": "CNQ2bqtzmj5Q",
        "outputId": "94d9a8c0-8673-4dc2-cd18-372a5561a146"
      },
      "source": [
        "dataset"
      ],
      "execution_count": null,
      "outputs": [
        {
          "output_type": "execute_result",
          "data": {
            "text/html": [
              "<div>\n",
              "<style scoped>\n",
              "    .dataframe tbody tr th:only-of-type {\n",
              "        vertical-align: middle;\n",
              "    }\n",
              "\n",
              "    .dataframe tbody tr th {\n",
              "        vertical-align: top;\n",
              "    }\n",
              "\n",
              "    .dataframe thead th {\n",
              "        text-align: right;\n",
              "    }\n",
              "</style>\n",
              "<table border=\"1\" class=\"dataframe\">\n",
              "  <thead>\n",
              "    <tr style=\"text-align: right;\">\n",
              "      <th></th>\n",
              "      <th>Unnamed: 0</th>\n",
              "      <th>user_id</th>\n",
              "      <th>business_id</th>\n",
              "      <th>review_stars</th>\n",
              "    </tr>\n",
              "  </thead>\n",
              "  <tbody>\n",
              "    <tr>\n",
              "      <th>0</th>\n",
              "      <td>0</td>\n",
              "      <td>ak0TdVmGKo4pwqdJSTLwWw</td>\n",
              "      <td>buF9druCkbuXLX526sGELQ</td>\n",
              "      <td>4</td>\n",
              "    </tr>\n",
              "    <tr>\n",
              "      <th>1</th>\n",
              "      <td>1</td>\n",
              "      <td>YoVfDbnISlW0f7abNQACIg</td>\n",
              "      <td>RA4V8pr014UyUbDvI-LW2A</td>\n",
              "      <td>4</td>\n",
              "    </tr>\n",
              "    <tr>\n",
              "      <th>2</th>\n",
              "      <td>2</td>\n",
              "      <td>eC5evKn1TWDyHCyQAwguUw</td>\n",
              "      <td>_sS2LBIGNT5NQb6PD1Vtjw</td>\n",
              "      <td>5</td>\n",
              "    </tr>\n",
              "    <tr>\n",
              "      <th>3</th>\n",
              "      <td>3</td>\n",
              "      <td>SFQ1jcnGguO0LYWnbbftAA</td>\n",
              "      <td>0AzLzHfOJgL7ROwhdww2ew</td>\n",
              "      <td>2</td>\n",
              "    </tr>\n",
              "    <tr>\n",
              "      <th>4</th>\n",
              "      <td>4</td>\n",
              "      <td>0kA0PAJ8QFMeveQWHFqz2A</td>\n",
              "      <td>8zehGz9jnxPqXtOc7KaJxA</td>\n",
              "      <td>4</td>\n",
              "    </tr>\n",
              "    <tr>\n",
              "      <th>...</th>\n",
              "      <td>...</td>\n",
              "      <td>...</td>\n",
              "      <td>...</td>\n",
              "      <td>...</td>\n",
              "    </tr>\n",
              "    <tr>\n",
              "      <th>1699995</th>\n",
              "      <td>1699995</td>\n",
              "      <td>DCqK3QO1HiO_HMMAjGQWXg</td>\n",
              "      <td>gFwIUy6xBvG1M0VTfgZZFw</td>\n",
              "      <td>5</td>\n",
              "    </tr>\n",
              "    <tr>\n",
              "      <th>1699996</th>\n",
              "      <td>1699996</td>\n",
              "      <td>eQhK6dajPnWo4eQj6-Oy4g</td>\n",
              "      <td>Ag89Kt5lObftTZG7yPCMsQ</td>\n",
              "      <td>4</td>\n",
              "    </tr>\n",
              "    <tr>\n",
              "      <th>1699997</th>\n",
              "      <td>1699997</td>\n",
              "      <td>ae5PRyJfV6wJ8tD1IsR8fA</td>\n",
              "      <td>xLEyXF9LCaoUxi_MgW3Nrw</td>\n",
              "      <td>1</td>\n",
              "    </tr>\n",
              "    <tr>\n",
              "      <th>1699998</th>\n",
              "      <td>1699998</td>\n",
              "      <td>3bJ2zyYx2HbpxvedNmp8Gw</td>\n",
              "      <td>lFt7w7weA2pwp45Ulvaevg</td>\n",
              "      <td>1</td>\n",
              "    </tr>\n",
              "    <tr>\n",
              "      <th>1699999</th>\n",
              "      <td>1699999</td>\n",
              "      <td>3fXolX3lt2XUEnmFCjhF4Q</td>\n",
              "      <td>QSDbe23wibJ_8izWZaTh4A</td>\n",
              "      <td>5</td>\n",
              "    </tr>\n",
              "  </tbody>\n",
              "</table>\n",
              "<p>1700000 rows × 4 columns</p>\n",
              "</div>"
            ],
            "text/plain": [
              "         Unnamed: 0  ... review_stars\n",
              "0                 0  ...            4\n",
              "1                 1  ...            4\n",
              "2                 2  ...            5\n",
              "3                 3  ...            2\n",
              "4                 4  ...            4\n",
              "...             ...  ...          ...\n",
              "1699995     1699995  ...            5\n",
              "1699996     1699996  ...            4\n",
              "1699997     1699997  ...            1\n",
              "1699998     1699998  ...            1\n",
              "1699999     1699999  ...            5\n",
              "\n",
              "[1700000 rows x 4 columns]"
            ]
          },
          "metadata": {},
          "execution_count": 36
        }
      ]
    },
    {
      "cell_type": "code",
      "metadata": {
        "id": "wVSZ8Ja3t_Cl"
      },
      "source": [
        "ratings_matrix = df.pivot_table(values='review_stars', index='user_id', columns='business_id', fill_value=0)\n",
        "ratings_matrix"
      ],
      "execution_count": null,
      "outputs": []
    },
    {
      "cell_type": "code",
      "metadata": {
        "id": "f_ZqsmRWpL_G"
      },
      "source": [
        ""
      ],
      "execution_count": null,
      "outputs": []
    },
    {
      "cell_type": "markdown",
      "metadata": {
        "id": "hOMLz6HeMSQE"
      },
      "source": [
        "Averaging the rating as there are huge number of dataset and to process that data huge processing poweris required."
      ]
    },
    {
      "cell_type": "code",
      "metadata": {
        "id": "bYeSrTInpL_H"
      },
      "source": [
        "dataset['user_id'] = range(1, len(dataset) + 1)"
      ],
      "execution_count": null,
      "outputs": []
    },
    {
      "cell_type": "code",
      "metadata": {
        "colab": {
          "base_uri": "https://localhost:8080/",
          "height": 424
        },
        "id": "OwSv0VyKpL_H",
        "outputId": "8decdf4d-c26c-4512-a5c4-a5a85482030d"
      },
      "source": [
        "dataset"
      ],
      "execution_count": null,
      "outputs": [
        {
          "output_type": "execute_result",
          "data": {
            "text/html": [
              "<div>\n",
              "<style scoped>\n",
              "    .dataframe tbody tr th:only-of-type {\n",
              "        vertical-align: middle;\n",
              "    }\n",
              "\n",
              "    .dataframe tbody tr th {\n",
              "        vertical-align: top;\n",
              "    }\n",
              "\n",
              "    .dataframe thead th {\n",
              "        text-align: right;\n",
              "    }\n",
              "</style>\n",
              "<table border=\"1\" class=\"dataframe\">\n",
              "  <thead>\n",
              "    <tr style=\"text-align: right;\">\n",
              "      <th></th>\n",
              "      <th>business_id</th>\n",
              "      <th>review_stars</th>\n",
              "      <th>user_id</th>\n",
              "    </tr>\n",
              "  </thead>\n",
              "  <tbody>\n",
              "    <tr>\n",
              "      <th>0</th>\n",
              "      <td>--0r8K_AQ4FZfLsX3ZYRDA</td>\n",
              "      <td>5.000000</td>\n",
              "      <td>1</td>\n",
              "    </tr>\n",
              "    <tr>\n",
              "      <th>1</th>\n",
              "      <td>--164t1nclzzmca7eDiJMw</td>\n",
              "      <td>3.877551</td>\n",
              "      <td>2</td>\n",
              "    </tr>\n",
              "    <tr>\n",
              "      <th>2</th>\n",
              "      <td>--4INAzazK6omgf3mY3dfw</td>\n",
              "      <td>3.500000</td>\n",
              "      <td>3</td>\n",
              "    </tr>\n",
              "    <tr>\n",
              "      <th>3</th>\n",
              "      <td>--DzGwfuJH12DjYz95VW0Q</td>\n",
              "      <td>2.266667</td>\n",
              "      <td>4</td>\n",
              "    </tr>\n",
              "    <tr>\n",
              "      <th>4</th>\n",
              "      <td>--JuLhLvq3gyjNnXT9Q95w</td>\n",
              "      <td>5.000000</td>\n",
              "      <td>5</td>\n",
              "    </tr>\n",
              "    <tr>\n",
              "      <th>...</th>\n",
              "      <td>...</td>\n",
              "      <td>...</td>\n",
              "      <td>...</td>\n",
              "    </tr>\n",
              "    <tr>\n",
              "      <th>32113</th>\n",
              "      <td>zzA7GQUwsLoy5uTXolJg2A</td>\n",
              "      <td>4.230769</td>\n",
              "      <td>32114</td>\n",
              "    </tr>\n",
              "    <tr>\n",
              "      <th>32114</th>\n",
              "      <td>zzAm2gQYRhGxlRuFpKX1SA</td>\n",
              "      <td>4.166667</td>\n",
              "      <td>32115</td>\n",
              "    </tr>\n",
              "    <tr>\n",
              "      <th>32115</th>\n",
              "      <td>zzR3b97lAXvMqcppMAYRuw</td>\n",
              "      <td>2.714286</td>\n",
              "      <td>32116</td>\n",
              "    </tr>\n",
              "    <tr>\n",
              "      <th>32116</th>\n",
              "      <td>zz_Pq7W4GdzwtayGgWZm8g</td>\n",
              "      <td>2.600000</td>\n",
              "      <td>32117</td>\n",
              "    </tr>\n",
              "    <tr>\n",
              "      <th>32117</th>\n",
              "      <td>zzxIO4bjWCQrvCJ0O5mmvA</td>\n",
              "      <td>3.400000</td>\n",
              "      <td>32118</td>\n",
              "    </tr>\n",
              "  </tbody>\n",
              "</table>\n",
              "<p>32118 rows × 3 columns</p>\n",
              "</div>"
            ],
            "text/plain": [
              "                  business_id  review_stars  user_id\n",
              "0      --0r8K_AQ4FZfLsX3ZYRDA      5.000000        1\n",
              "1      --164t1nclzzmca7eDiJMw      3.877551        2\n",
              "2      --4INAzazK6omgf3mY3dfw      3.500000        3\n",
              "3      --DzGwfuJH12DjYz95VW0Q      2.266667        4\n",
              "4      --JuLhLvq3gyjNnXT9Q95w      5.000000        5\n",
              "...                       ...           ...      ...\n",
              "32113  zzA7GQUwsLoy5uTXolJg2A      4.230769    32114\n",
              "32114  zzAm2gQYRhGxlRuFpKX1SA      4.166667    32115\n",
              "32115  zzR3b97lAXvMqcppMAYRuw      2.714286    32116\n",
              "32116  zz_Pq7W4GdzwtayGgWZm8g      2.600000    32117\n",
              "32117  zzxIO4bjWCQrvCJ0O5mmvA      3.400000    32118\n",
              "\n",
              "[32118 rows x 3 columns]"
            ]
          },
          "metadata": {},
          "execution_count": 39
        }
      ]
    },
    {
      "cell_type": "code",
      "metadata": {
        "id": "r9svLggtpL_I"
      },
      "source": [
        "dataset=dataset[['user_id','business_id','review_stars']]"
      ],
      "execution_count": null,
      "outputs": []
    },
    {
      "cell_type": "code",
      "metadata": {
        "id": "vIskBWdCpL_K"
      },
      "source": [
        "dataset.columns=['user_id','item_id','stars']"
      ],
      "execution_count": null,
      "outputs": []
    },
    {
      "cell_type": "code",
      "metadata": {
        "colab": {
          "base_uri": "https://localhost:8080/",
          "height": 424
        },
        "id": "xALbXFr5pL_K",
        "outputId": "591317a5-a37f-48c3-f07e-38b461b35e29"
      },
      "source": [
        "dataset"
      ],
      "execution_count": null,
      "outputs": [
        {
          "output_type": "execute_result",
          "data": {
            "text/html": [
              "<div>\n",
              "<style scoped>\n",
              "    .dataframe tbody tr th:only-of-type {\n",
              "        vertical-align: middle;\n",
              "    }\n",
              "\n",
              "    .dataframe tbody tr th {\n",
              "        vertical-align: top;\n",
              "    }\n",
              "\n",
              "    .dataframe thead th {\n",
              "        text-align: right;\n",
              "    }\n",
              "</style>\n",
              "<table border=\"1\" class=\"dataframe\">\n",
              "  <thead>\n",
              "    <tr style=\"text-align: right;\">\n",
              "      <th></th>\n",
              "      <th>user_id</th>\n",
              "      <th>item_id</th>\n",
              "      <th>stars</th>\n",
              "    </tr>\n",
              "  </thead>\n",
              "  <tbody>\n",
              "    <tr>\n",
              "      <th>0</th>\n",
              "      <td>1</td>\n",
              "      <td>--0r8K_AQ4FZfLsX3ZYRDA</td>\n",
              "      <td>5.000000</td>\n",
              "    </tr>\n",
              "    <tr>\n",
              "      <th>1</th>\n",
              "      <td>2</td>\n",
              "      <td>--164t1nclzzmca7eDiJMw</td>\n",
              "      <td>3.877551</td>\n",
              "    </tr>\n",
              "    <tr>\n",
              "      <th>2</th>\n",
              "      <td>3</td>\n",
              "      <td>--4INAzazK6omgf3mY3dfw</td>\n",
              "      <td>3.500000</td>\n",
              "    </tr>\n",
              "    <tr>\n",
              "      <th>3</th>\n",
              "      <td>4</td>\n",
              "      <td>--DzGwfuJH12DjYz95VW0Q</td>\n",
              "      <td>2.266667</td>\n",
              "    </tr>\n",
              "    <tr>\n",
              "      <th>4</th>\n",
              "      <td>5</td>\n",
              "      <td>--JuLhLvq3gyjNnXT9Q95w</td>\n",
              "      <td>5.000000</td>\n",
              "    </tr>\n",
              "    <tr>\n",
              "      <th>...</th>\n",
              "      <td>...</td>\n",
              "      <td>...</td>\n",
              "      <td>...</td>\n",
              "    </tr>\n",
              "    <tr>\n",
              "      <th>32113</th>\n",
              "      <td>32114</td>\n",
              "      <td>zzA7GQUwsLoy5uTXolJg2A</td>\n",
              "      <td>4.230769</td>\n",
              "    </tr>\n",
              "    <tr>\n",
              "      <th>32114</th>\n",
              "      <td>32115</td>\n",
              "      <td>zzAm2gQYRhGxlRuFpKX1SA</td>\n",
              "      <td>4.166667</td>\n",
              "    </tr>\n",
              "    <tr>\n",
              "      <th>32115</th>\n",
              "      <td>32116</td>\n",
              "      <td>zzR3b97lAXvMqcppMAYRuw</td>\n",
              "      <td>2.714286</td>\n",
              "    </tr>\n",
              "    <tr>\n",
              "      <th>32116</th>\n",
              "      <td>32117</td>\n",
              "      <td>zz_Pq7W4GdzwtayGgWZm8g</td>\n",
              "      <td>2.600000</td>\n",
              "    </tr>\n",
              "    <tr>\n",
              "      <th>32117</th>\n",
              "      <td>32118</td>\n",
              "      <td>zzxIO4bjWCQrvCJ0O5mmvA</td>\n",
              "      <td>3.400000</td>\n",
              "    </tr>\n",
              "  </tbody>\n",
              "</table>\n",
              "<p>32118 rows × 3 columns</p>\n",
              "</div>"
            ],
            "text/plain": [
              "       user_id                 item_id     stars\n",
              "0            1  --0r8K_AQ4FZfLsX3ZYRDA  5.000000\n",
              "1            2  --164t1nclzzmca7eDiJMw  3.877551\n",
              "2            3  --4INAzazK6omgf3mY3dfw  3.500000\n",
              "3            4  --DzGwfuJH12DjYz95VW0Q  2.266667\n",
              "4            5  --JuLhLvq3gyjNnXT9Q95w  5.000000\n",
              "...        ...                     ...       ...\n",
              "32113    32114  zzA7GQUwsLoy5uTXolJg2A  4.230769\n",
              "32114    32115  zzAm2gQYRhGxlRuFpKX1SA  4.166667\n",
              "32115    32116  zzR3b97lAXvMqcppMAYRuw  2.714286\n",
              "32116    32117  zz_Pq7W4GdzwtayGgWZm8g  2.600000\n",
              "32117    32118  zzxIO4bjWCQrvCJ0O5mmvA  3.400000\n",
              "\n",
              "[32118 rows x 3 columns]"
            ]
          },
          "metadata": {},
          "execution_count": 42
        }
      ]
    },
    {
      "cell_type": "code",
      "metadata": {
        "id": "UrckePyZo6mb"
      },
      "source": [
        "df_new=dataset\n",
        "df_new.columns=['userID','itemID','rating']"
      ],
      "execution_count": null,
      "outputs": []
    },
    {
      "cell_type": "code",
      "metadata": {
        "colab": {
          "base_uri": "https://localhost:8080/",
          "height": 424
        },
        "id": "TywakVYVpIJl",
        "outputId": "cafe4525-c65d-429a-a11b-64b646c76c05"
      },
      "source": [
        "df_new"
      ],
      "execution_count": null,
      "outputs": [
        {
          "output_type": "execute_result",
          "data": {
            "text/html": [
              "<div>\n",
              "<style scoped>\n",
              "    .dataframe tbody tr th:only-of-type {\n",
              "        vertical-align: middle;\n",
              "    }\n",
              "\n",
              "    .dataframe tbody tr th {\n",
              "        vertical-align: top;\n",
              "    }\n",
              "\n",
              "    .dataframe thead th {\n",
              "        text-align: right;\n",
              "    }\n",
              "</style>\n",
              "<table border=\"1\" class=\"dataframe\">\n",
              "  <thead>\n",
              "    <tr style=\"text-align: right;\">\n",
              "      <th></th>\n",
              "      <th>userID</th>\n",
              "      <th>itemID</th>\n",
              "      <th>rating</th>\n",
              "    </tr>\n",
              "  </thead>\n",
              "  <tbody>\n",
              "    <tr>\n",
              "      <th>0</th>\n",
              "      <td>1</td>\n",
              "      <td>--0r8K_AQ4FZfLsX3ZYRDA</td>\n",
              "      <td>5.000000</td>\n",
              "    </tr>\n",
              "    <tr>\n",
              "      <th>1</th>\n",
              "      <td>2</td>\n",
              "      <td>--164t1nclzzmca7eDiJMw</td>\n",
              "      <td>3.877551</td>\n",
              "    </tr>\n",
              "    <tr>\n",
              "      <th>2</th>\n",
              "      <td>3</td>\n",
              "      <td>--4INAzazK6omgf3mY3dfw</td>\n",
              "      <td>3.500000</td>\n",
              "    </tr>\n",
              "    <tr>\n",
              "      <th>3</th>\n",
              "      <td>4</td>\n",
              "      <td>--DzGwfuJH12DjYz95VW0Q</td>\n",
              "      <td>2.266667</td>\n",
              "    </tr>\n",
              "    <tr>\n",
              "      <th>4</th>\n",
              "      <td>5</td>\n",
              "      <td>--JuLhLvq3gyjNnXT9Q95w</td>\n",
              "      <td>5.000000</td>\n",
              "    </tr>\n",
              "    <tr>\n",
              "      <th>...</th>\n",
              "      <td>...</td>\n",
              "      <td>...</td>\n",
              "      <td>...</td>\n",
              "    </tr>\n",
              "    <tr>\n",
              "      <th>32113</th>\n",
              "      <td>32114</td>\n",
              "      <td>zzA7GQUwsLoy5uTXolJg2A</td>\n",
              "      <td>4.230769</td>\n",
              "    </tr>\n",
              "    <tr>\n",
              "      <th>32114</th>\n",
              "      <td>32115</td>\n",
              "      <td>zzAm2gQYRhGxlRuFpKX1SA</td>\n",
              "      <td>4.166667</td>\n",
              "    </tr>\n",
              "    <tr>\n",
              "      <th>32115</th>\n",
              "      <td>32116</td>\n",
              "      <td>zzR3b97lAXvMqcppMAYRuw</td>\n",
              "      <td>2.714286</td>\n",
              "    </tr>\n",
              "    <tr>\n",
              "      <th>32116</th>\n",
              "      <td>32117</td>\n",
              "      <td>zz_Pq7W4GdzwtayGgWZm8g</td>\n",
              "      <td>2.600000</td>\n",
              "    </tr>\n",
              "    <tr>\n",
              "      <th>32117</th>\n",
              "      <td>32118</td>\n",
              "      <td>zzxIO4bjWCQrvCJ0O5mmvA</td>\n",
              "      <td>3.400000</td>\n",
              "    </tr>\n",
              "  </tbody>\n",
              "</table>\n",
              "<p>32118 rows × 3 columns</p>\n",
              "</div>"
            ],
            "text/plain": [
              "       userID                  itemID    rating\n",
              "0           1  --0r8K_AQ4FZfLsX3ZYRDA  5.000000\n",
              "1           2  --164t1nclzzmca7eDiJMw  3.877551\n",
              "2           3  --4INAzazK6omgf3mY3dfw  3.500000\n",
              "3           4  --DzGwfuJH12DjYz95VW0Q  2.266667\n",
              "4           5  --JuLhLvq3gyjNnXT9Q95w  5.000000\n",
              "...       ...                     ...       ...\n",
              "32113   32114  zzA7GQUwsLoy5uTXolJg2A  4.230769\n",
              "32114   32115  zzAm2gQYRhGxlRuFpKX1SA  4.166667\n",
              "32115   32116  zzR3b97lAXvMqcppMAYRuw  2.714286\n",
              "32116   32117  zz_Pq7W4GdzwtayGgWZm8g  2.600000\n",
              "32117   32118  zzxIO4bjWCQrvCJ0O5mmvA  3.400000\n",
              "\n",
              "[32118 rows x 3 columns]"
            ]
          },
          "metadata": {},
          "execution_count": 45
        }
      ]
    },
    {
      "cell_type": "markdown",
      "metadata": {
        "id": "dLR82q4pMpqf"
      },
      "source": [
        "# Model Training and Evaluation"
      ]
    },
    {
      "cell_type": "markdown",
      "metadata": {
        "id": "_vU_KXHnM0Uy"
      },
      "source": [
        "## User-Item Collaborative Filtering"
      ]
    },
    {
      "cell_type": "markdown",
      "metadata": {
        "id": "nGvg9sL2M4ti"
      },
      "source": [
        "The Data was finally reduced to 17,00,000 reviews User-Item Collaborative Filtering. As the user that we have in our application is not going to be a part of the current dataset, we decided to take only the mean of the reviews of restaurants. Subsequently making the data reduction to 32000 restaurants ratings. Using this we have used Surprise Library which is used to build a recommendation engine. We Split the input data into 80% Train and 20% Testing datasets. Then using the surprise libraries Reader module converted the data into Surprise trainset. Later tried Various algorithms "
      ]
    },
    {
      "cell_type": "code",
      "metadata": {
        "id": "CIrfx633o1--"
      },
      "source": [
        "reader = Reader(rating_scale=(1, 5))\n",
        "data = Dataset.load_from_df(df_new,reader)"
      ],
      "execution_count": null,
      "outputs": []
    },
    {
      "cell_type": "code",
      "metadata": {
        "id": "4iwrepXLphsr"
      },
      "source": [
        "trainset, testset = train_test_split(data, test_size=0.3,random_state=10)"
      ],
      "execution_count": null,
      "outputs": []
    },
    {
      "cell_type": "code",
      "metadata": {
        "id": "154W3lu1phlG"
      },
      "source": [
        "acuuracy_table={}"
      ],
      "execution_count": null,
      "outputs": []
    },
    {
      "cell_type": "markdown",
      "metadata": {
        "id": "hX-Pp4iXNEnC"
      },
      "source": [
        "## NormalPredictor"
      ]
    },
    {
      "cell_type": "code",
      "metadata": {
        "colab": {
          "base_uri": "https://localhost:8080/"
        },
        "id": "-KUt08Cephck",
        "outputId": "bda2f4d2-6c30-4c2a-a57f-eee85b8e4adf"
      },
      "source": [
        "algo = NormalPredictor( )\n",
        "algo.fit(trainset)\n",
        "test_pred = algo.test(testset)\n",
        "accuracy_model=round(float(str(accuracy.rmse(test_pred, verbose=True))[0:]),4)\n",
        "accuracy_model\n",
        "acuuracy_table['NormalPredictor']=accuracy_model"
      ],
      "execution_count": null,
      "outputs": [
        {
          "output_type": "stream",
          "name": "stdout",
          "text": [
            "RMSE: 1.2869\n"
          ]
        }
      ]
    },
    {
      "cell_type": "markdown",
      "metadata": {
        "id": "wddGM92dNHJM"
      },
      "source": [
        "The Root mean square Error of NormalPredictor is 1.2869"
      ]
    },
    {
      "cell_type": "markdown",
      "metadata": {
        "id": "t8mydZXmNOL2"
      },
      "source": [
        "# BaselineOnly"
      ]
    },
    {
      "cell_type": "code",
      "metadata": {
        "colab": {
          "base_uri": "https://localhost:8080/"
        },
        "id": "S6VshOZGqOjU",
        "outputId": "05101aff-3405-4248-d714-5caca19ddd8b"
      },
      "source": [
        "algo = BaselineOnly()\n",
        "algo.fit(trainset)\n",
        "test_pred = algo.test(testset)\n",
        "accuracy_model=round(float(str(accuracy.rmse(test_pred, verbose=True))[0:]),4)\n",
        "accuracy_model\n",
        "acuuracy_table['BaselineOnly']=accuracy_model"
      ],
      "execution_count": null,
      "outputs": [
        {
          "output_type": "stream",
          "name": "stdout",
          "text": [
            "Estimating biases using als...\n",
            "RMSE: 0.9336\n"
          ]
        }
      ]
    },
    {
      "cell_type": "markdown",
      "metadata": {
        "id": "NkL3FMq6NRc9"
      },
      "source": [
        "The Root mean square Error of BaselineOnly is 0.9336"
      ]
    },
    {
      "cell_type": "markdown",
      "metadata": {
        "id": "J_QeT5saNWmL"
      },
      "source": [
        "# Singular Value Decomposition "
      ]
    },
    {
      "cell_type": "code",
      "metadata": {
        "colab": {
          "base_uri": "https://localhost:8080/"
        },
        "id": "v-qDp03AqR-O",
        "outputId": "6c7a56bc-8342-47ac-e28d-a9f358996c47"
      },
      "source": [
        "algo = SVD()\n",
        "algo.fit(trainset)\n",
        "test_pred = algo.test(testset)\n",
        "accuracy_model=round(float(str(accuracy.rmse(test_pred, verbose=True))[0:]),4)\n",
        "accuracy_model\n",
        "acuuracy_table['SVD']=accuracy_model"
      ],
      "execution_count": null,
      "outputs": [
        {
          "output_type": "stream",
          "name": "stdout",
          "text": [
            "RMSE: 0.9336\n"
          ]
        }
      ]
    },
    {
      "cell_type": "markdown",
      "metadata": {
        "id": "7iqqEBAbNcPR"
      },
      "source": [
        "The Root mean square Error of BaselineOnly is 0.9336"
      ]
    },
    {
      "cell_type": "markdown",
      "metadata": {
        "id": "Cyn6PT0TNlvc"
      },
      "source": [
        "# SVDpp"
      ]
    },
    {
      "cell_type": "code",
      "metadata": {
        "colab": {
          "base_uri": "https://localhost:8080/"
        },
        "id": "qqktvPgJppka",
        "outputId": "ca262f35-574f-470d-bff2-bb41fb79b038"
      },
      "source": [
        "algo =SVDpp()\n",
        "algo.fit(trainset)\n",
        "test_pred = algo.test(testset)\n",
        "accuracy_model=round(float(str(accuracy.rmse(test_pred, verbose=True))[0:]),4)\n",
        "accuracy_model\n",
        "acuuracy_table['SVDpp']=accuracy_model"
      ],
      "execution_count": null,
      "outputs": [
        {
          "output_type": "stream",
          "name": "stdout",
          "text": [
            "RMSE: 0.9336\n"
          ]
        }
      ]
    },
    {
      "cell_type": "markdown",
      "metadata": {
        "id": "Ln5qTkZvNgAj"
      },
      "source": [
        "The Root mean square Error of BaselineOnly is 0.9336"
      ]
    },
    {
      "cell_type": "markdown",
      "metadata": {
        "id": "RDPCmC11NoP_"
      },
      "source": [
        "# Non-Negative Matrix Factorization"
      ]
    },
    {
      "cell_type": "code",
      "metadata": {
        "colab": {
          "base_uri": "https://localhost:8080/"
        },
        "id": "T-q04wZIppgy",
        "outputId": "7ef80110-6f0a-4973-8627-7eb11e8fdd64"
      },
      "source": [
        "algo =NMF()\n",
        "algo.fit(trainset)\n",
        "test_pred = algo.test(testset)\n",
        "accuracy_model=round(float(str(accuracy.rmse(test_pred, verbose=True))[0:]),4)\n",
        "accuracy_model\n",
        "acuuracy_table['NMF']=accuracy_model"
      ],
      "execution_count": null,
      "outputs": [
        {
          "output_type": "stream",
          "name": "stdout",
          "text": [
            "RMSE: 0.9336\n"
          ]
        }
      ]
    },
    {
      "cell_type": "markdown",
      "metadata": {
        "id": "tY4Rf4uENg4i"
      },
      "source": [
        "The Root mean square Error of BaselineOnly is 0.9336"
      ]
    },
    {
      "cell_type": "markdown",
      "metadata": {
        "id": "TjLQ_Zi6NwKg"
      },
      "source": [
        "# CoClustering"
      ]
    },
    {
      "cell_type": "code",
      "metadata": {
        "colab": {
          "base_uri": "https://localhost:8080/"
        },
        "id": "tffG1RmkqoD7",
        "outputId": "3ae1bc0d-2bc1-4cb3-fe3e-88bb33d0c03c"
      },
      "source": [
        "algo =CoClustering()\n",
        "algo.fit(trainset)\n",
        "test_pred = algo.test(testset)\n",
        "accuracy_model=round(float(str(accuracy.rmse(test_pred, verbose=True))[0:]),4)\n",
        "accuracy_model\n",
        "acuuracy_table['CoClustering']=accuracy_model"
      ],
      "execution_count": null,
      "outputs": [
        {
          "output_type": "stream",
          "name": "stdout",
          "text": [
            "RMSE: 0.9336\n"
          ]
        }
      ]
    },
    {
      "cell_type": "markdown",
      "metadata": {
        "id": "HZK3KzUWNiTi"
      },
      "source": [
        "The Root mean square Error of BaselineOnly is 0.9336"
      ]
    },
    {
      "cell_type": "markdown",
      "metadata": {
        "id": "8lZSuSdkNypG"
      },
      "source": [
        "### The Accuracy of models is"
      ]
    },
    {
      "cell_type": "code",
      "metadata": {
        "colab": {
          "base_uri": "https://localhost:8080/"
        },
        "id": "BExhYI8_ppdi",
        "outputId": "82b106b5-fe11-4eff-c88f-75d6b55b6d89"
      },
      "source": [
        "acuuracy_table"
      ],
      "execution_count": null,
      "outputs": [
        {
          "output_type": "execute_result",
          "data": {
            "text/plain": [
              "{'BaselineOnly': 0.9336,\n",
              " 'CoClustering': 0.9336,\n",
              " 'NMF': 0.9336,\n",
              " 'NormalPredictor': 1.2869,\n",
              " 'SVDpp': 0.9336}"
            ]
          },
          "metadata": {},
          "execution_count": 59
        }
      ]
    },
    {
      "cell_type": "code",
      "metadata": {
        "colab": {
          "base_uri": "https://localhost:8080/",
          "height": 389
        },
        "id": "rZW_B-l2ppaY",
        "outputId": "dbdd2a11-2777-42b0-e1e0-5a43903de02c"
      },
      "source": [
        "accuracy_x=pd.DataFrame.from_dict(acuuracy_table,orient='index').reset_index()\n",
        "accuracy_x.columns=['model_name','rmse']\n",
        "\n",
        "plt.figure(figsize=(8, 6))\n",
        "ax = sns.barplot(data=accuracy_x, x='model_name', y='rmse')"
      ],
      "execution_count": null,
      "outputs": [
        {
          "output_type": "display_data",
          "data": {
            "image/png": "[encoded data removed]",
            "text/plain": [
              "<Figure size 576x432 with 1 Axes>"
            ]
          },
          "metadata": {
            "needs_background": "light"
          }
        }
      ]
    },
    {
      "cell_type": "markdown",
      "metadata": {
        "id": "EM18fd1nN3qX"
      },
      "source": [
        "After using multiple algorithms it can be seen that surprisingly 4 out of 5 models are performing with rmse of 0.9336"
      ]
    },
    {
      "cell_type": "markdown",
      "metadata": {
        "id": "JhSqAsJcOF7F"
      },
      "source": [
        "\n",
        "\n",
        "---\n",
        "\n",
        "\n"
      ]
    },
    {
      "cell_type": "markdown",
      "metadata": {
        "id": "56sKFW_1Ofkw"
      },
      "source": [
        "# Item - Item Collaborative Filetering"
      ]
    },
    {
      "cell_type": "markdown",
      "metadata": {
        "id": "S5r0CNxEONpe"
      },
      "source": [
        "In this type of recommendation system input is a restaurant(ITEM) and recommendation is a List of recommended restaurants(ITEM)."
      ]
    },
    {
      "cell_type": "markdown",
      "metadata": {
        "id": "2MoDnGtJOt0O"
      },
      "source": [
        "## Methodology"
      ]
    },
    {
      "cell_type": "markdown",
      "metadata": {
        "id": "x-HO12ssPITT"
      },
      "source": [
        "For this we need to convert the Dataset into a different format to be able to consume and generate Recommendations"
      ]
    },
    {
      "cell_type": "markdown",
      "metadata": {
        "id": "-I8UrAchPQJl"
      },
      "source": [
        "The Following is the input dataset"
      ]
    },
    {
      "cell_type": "markdown",
      "metadata": {
        "id": "F1TgyJdIOm0P"
      },
      "source": [
        "![image.png](data:image/png;base64,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)"
      ]
    },
    {
      "cell_type": "markdown",
      "metadata": {
        "id": "ZaPHgpQgPUhS"
      },
      "source": [
        "The dataset it to be pivoted into the following format"
      ]
    },
    {
      "cell_type": "markdown",
      "metadata": {
        "id": "Y8oiwYqTOqIY"
      },
      "source": [
        "![image.png](data:image/png;base64,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)"
      ]
    },
    {
      "cell_type": "markdown",
      "metadata": {
        "id": "fZCkpFXtPgv9"
      },
      "source": [
        "### Encoding the business_id into simple numbers"
      ]
    },
    {
      "cell_type": "code",
      "metadata": {
        "id": "GzseXb7QpL_K"
      },
      "source": [
        "le = preprocessing.LabelEncoder()"
      ],
      "execution_count": null,
      "outputs": []
    },
    {
      "cell_type": "code",
      "metadata": {
        "id": "tCevHCZCpL_L"
      },
      "source": [
        "dataset['le_item_id']=le.fit_transform(dataset.item_id)"
      ],
      "execution_count": null,
      "outputs": []
    },
    {
      "cell_type": "code",
      "metadata": {
        "id": "wrSPT8eMpL_L"
      },
      "source": [
        "dataset"
      ],
      "execution_count": null,
      "outputs": []
    },
    {
      "cell_type": "code",
      "metadata": {
        "id": "gvEzp18-pL_L"
      },
      "source": [
        "dataset=dataset[['user_id','le_item_id','stars']]\n",
        "dataset.columns=['user_id','item_id','stars']"
      ],
      "execution_count": null,
      "outputs": []
    },
    {
      "cell_type": "markdown",
      "metadata": {
        "id": "NU_oz1L-Prh-"
      },
      "source": [
        "## Pivoting the input Dataset"
      ]
    },
    {
      "cell_type": "code",
      "metadata": {
        "id": "jTHlAuC1pL_M"
      },
      "source": [
        "n_users = dataset.user_id.unique().shape[0]\n",
        "n_items = dataset.item_id.unique().shape[0]\n",
        "# n_items = dataset['item_id'].max()\n",
        "A = np.zeros((n_users,n_items))\n",
        "for line in dataset.itertuples():\n",
        "    A[line[1]-1,line[2]-1] = line[3]\n",
        "print(\"Original rating matrix : \",A)"
      ],
      "execution_count": null,
      "outputs": []
    },
    {
      "cell_type": "markdown",
      "metadata": {
        "id": "O-74aM7jPxiW"
      },
      "source": [
        "The Converted pivoted matrix is obviously going to have too many zeroes as  users might not have visited majority of restaurants. Hence converting the above matrix into sparse matrix can imporove processing "
      ]
    },
    {
      "cell_type": "markdown",
      "metadata": {
        "id": "l8bqI6RIQKuQ"
      },
      "source": [
        "### Converting into Sparse Matrix"
      ]
    },
    {
      "cell_type": "code",
      "metadata": {
        "id": "EOZO5qFKpL_M"
      },
      "source": [
        "csr_sample = csr_matrix(A)\n",
        "print(csr_sample)"
      ],
      "execution_count": null,
      "outputs": []
    },
    {
      "cell_type": "markdown",
      "metadata": {
        "id": "MtPbWbygQOAQ"
      },
      "source": [
        "### KNN Model Training"
      ]
    },
    {
      "cell_type": "code",
      "metadata": {
        "id": "3ZyRJNvCpL_M"
      },
      "source": [
        "knn = NearestNeighbors(metric='cosine', algorithm='brute', n_neighbors=3, n_jobs=-1)\n",
        "knn.fit(csr_sample)"
      ],
      "execution_count": null,
      "outputs": []
    },
    {
      "cell_type": "markdown",
      "metadata": {
        "id": "QCTiNjpyQTPE"
      },
      "source": [
        "## Saving the model components\n",
        "These Model artifcats will be used in inference"
      ]
    },
    {
      "cell_type": "code",
      "metadata": {
        "id": "RVnhlwmopL_O"
      },
      "source": [
        "scipy.sparse.save_npz('sparse_matrix.npz', csr_sample)\n",
        "pickle.dump(knn,open('knn', 'wb'))\n",
        "pickle.dump(le,open('le', 'wb'))"
      ],
      "execution_count": null,
      "outputs": []
    },
    {
      "cell_type": "markdown",
      "metadata": {
        "id": "eFtd3ClgQgZY"
      },
      "source": [
        "## Loading the models"
      ]
    },
    {
      "cell_type": "code",
      "metadata": {
        "id": "Z8po0iWupL_P"
      },
      "source": [
        "knn=pickle.load(open('knn', 'rb'))\n",
        "le=pickle.load(open('le', 'rb'))\n",
        "csr_sample=scipy.sparse.load_npz('sparse_matrix.npz')"
      ],
      "execution_count": null,
      "outputs": []
    },
    {
      "cell_type": "markdown",
      "metadata": {
        "id": "UgAbI-zSQm0d"
      },
      "source": [
        "# Using the model for recommendation\n",
        "\n",
        "\n",
        "\n",
        "1.   Convert the restaurant information into Label Encoded value\n",
        "2.   Use the encoded value in KNN ML Model to get similar restaurants\n",
        "3.   Inverse transform the resultant restaurant into restaurant id\n",
        "\n"
      ]
    },
    {
      "cell_type": "code",
      "metadata": {
        "id": "ahwem-qvpL_P"
      },
      "source": [
        "def get_recommendations(filter_input,n=5):\n",
        "    filter1=le.transform(filter_input)\n",
        "    distances1=[]\n",
        "    indices1=[]\n",
        "    for i in filter1:\n",
        "        distances , indices = knn.kneighbors(csr_sample[i],n_neighbors=10)\n",
        "        indices = indices.flatten()\n",
        "        indices= indices[1:]\n",
        "        indices1.extend(indices)\n",
        "        recs=list(set(le.inverse_transform(indices1)))\n",
        "    return recs[0:n]"
      ],
      "execution_count": null,
      "outputs": []
    },
    {
      "cell_type": "code",
      "metadata": {
        "id": "7pN1lxo6pL_P"
      },
      "source": [
        "get_recommendations(['--0r8K_AQ4FZfLsX3ZYRDA'],5)"
      ],
      "execution_count": null,
      "outputs": []
    }
  ]
}